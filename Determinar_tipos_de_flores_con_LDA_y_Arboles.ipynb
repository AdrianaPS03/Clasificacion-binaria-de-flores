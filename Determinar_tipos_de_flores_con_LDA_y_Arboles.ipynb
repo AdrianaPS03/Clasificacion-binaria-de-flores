{
 "cells": [
  {
   "cell_type": "markdown",
   "metadata": {
    "id": "Xa0Ei8f4XCRg"
   },
   "source": [
    "# **Actividad 2.2: LDA y Árboles de Decisión**"
   ]
  },
  {
   "cell_type": "markdown",
   "metadata": {
    "id": "HxNDTRyoXMgV"
   },
   "source": [
    "**Base de datos obtenida de una clase diferente (modelos de análitica predictiva):** https://raw.githubusercontent.com/jose-morcillo/Predictive_Analytics/dasets/Iris_dataset_binary.csv"
   ]
  },
  {
   "cell_type": "markdown",
   "metadata": {
    "id": "hELKQ3slXMWi"
   },
   "source": [
    "**Objetivo:** Realizar un modelo predictivo para la variable **'species'** dentro de una base de datos que describe las caracteristicas/medias de diferentes flores."
   ]
  },
  {
   "cell_type": "code",
   "execution_count": 39,
   "metadata": {
    "id": "SDxse_TgWHju"
   },
   "outputs": [],
   "source": [
    "import pandas as pd\n",
    "import matplotlib.pyplot as plt\n",
    "import numpy as np\n",
    "import seaborn as sns\n",
    "import statsmodels.api as sm\n",
    "from sklearn.preprocessing import LabelEncoder #Equivalente a cat.codes\n",
    "#Importar libreria para dividir los datos en training | test\n",
    "from sklearn.model_selection import train_test_split\n",
    "#LDA\n",
    "from sklearn.discriminant_analysis import LinearDiscriminantAnalysis\n",
    "from sklearn.metrics import accuracy_score\n",
    "#Scaler\n",
    "from sklearn.preprocessing import StandardScaler\n",
    "#Árbol de Desición\n",
    "from sklearn.tree import DecisionTreeClassifier\n",
    "from sklearn.model_selection import GridSearchCV, LeaveOneOut\n",
    "#Matriz de confusión\n",
    "#Matriz de confusión\n",
    "from sklearn.metrics import confusion_matrix\n",
    "from sklearn.metrics import ConfusionMatrixDisplay as cmd"
   ]
  },
  {
   "cell_type": "markdown",
   "metadata": {
    "id": "VpPJR3FnXj3a"
   },
   "source": [
    "1. Importa los datos a tu ambiente de trabajo y separa los datos en entrenamiento y prueba, con una relación que consideres adecuada, manteniendo un balance de clases. Demuestra que se cumplió la condición imprimiendo datos relevantes en la consola."
   ]
  },
  {
   "cell_type": "code",
   "execution_count": 40,
   "metadata": {
    "colab": {
     "base_uri": "https://localhost:8080/"
    },
    "id": "6HlINu1UXUMg",
    "outputId": "cac82828-da09-41a1-b2b1-46697823b9e5"
   },
   "outputs": [
    {
     "name": "stdout",
     "output_type": "stream",
     "text": [
      "Balance de la base de datos completa:\n",
      "species_category\n",
      "0    50\n",
      "1    50\n",
      "Name: count, dtype: int64\n",
      "Balance de los datos de entrenamiento:\n",
      "species_category\n",
      "1    40\n",
      "0    40\n",
      "Name: count, dtype: int64\n",
      "Balance de los datos de validación:\n",
      "species_category\n",
      "1    10\n",
      "0    10\n",
      "Name: count, dtype: int64\n"
     ]
    }
   ],
   "source": [
    "url= 'https://raw.githubusercontent.com/jose-morcillo/Predictive_Analytics/dasets/Iris_dataset_binary.csv'\n",
    "df = pd.read_csv(url)\n",
    "df = df.drop(['Unnamed: 0'], axis=1)\n",
    "df['species_category'] = LabelEncoder().fit_transform(df['species'])\n",
    "#Balance de datos\n",
    "print('Balance de la base de datos completa:')\n",
    "print(df['species_category'].value_counts())\n",
    "x = df.drop(columns=['species', 'species_category'])\n",
    "y = df['species_category']\n",
    "x_train, x_test, y_train, y_test = train_test_split(x, y, test_size=0.2, random_state=0, stratify=y)\n",
    "print('Balance de los datos de entrenamiento:')\n",
    "print(y_train.value_counts())\n",
    "print('Balance de los datos de validación:')\n",
    "print(y_test.value_counts())"
   ]
  },
  {
   "cell_type": "markdown",
   "metadata": {
    "id": "I9j3J1P1qNyo"
   },
   "source": [
    "2. Corre una regresión logística simple con la función GLM de statsmodels con todas tus variables de entrada e imprime el resumen del modelo en consola. Indica cuáles son las 2 variables más relevantes para este estudio y selecciónalas, eliminando todas las demás variables de tus datos de entrenamiento y prueba."
   ]
  },
  {
   "cell_type": "code",
   "execution_count": 41,
   "metadata": {
    "colab": {
     "base_uri": "https://localhost:8080/"
    },
    "id": "mBQf7b_TXZoE",
    "outputId": "445affb5-ea03-4ffa-d8ce-a970baaf9bbe"
   },
   "outputs": [
    {
     "name": "stdout",
     "output_type": "stream",
     "text": [
      "                 Generalized Linear Model Regression Results                  \n",
      "==============================================================================\n",
      "Dep. Variable:       species_category   No. Observations:                  100\n",
      "Model:                            GLM   Df Residuals:                       96\n",
      "Model Family:                   Gamma   Df Model:                            3\n",
      "Link Function:           InversePower   Scale:                          2.3776\n",
      "Method:                          IRLS   Log-Likelihood:                    inf\n",
      "Date:                Thu, 20 Mar 2025   Deviance:                       3771.2\n",
      "Time:                        13:36:39   Pearson chi2:                     228.\n",
      "No. Iterations:                    10   Pseudo R-squ. (CS):                nan\n",
      "Covariance Type:            nonrobust                                         \n",
      "=====================================================================================\n",
      "                        coef    std err          z      P>|z|      [0.025      0.975]\n",
      "-------------------------------------------------------------------------------------\n",
      "sepal length (cm)     1.8876      0.427      4.420      0.000       1.051       2.725\n",
      "sepal width (cm)      4.4336      0.743      5.970      0.000       2.978       5.889\n",
      "petal length (cm)    -4.1054      0.896     -4.582      0.000      -5.861      -2.349\n",
      "petal width (cm)     -3.0141      1.085     -2.779      0.005      -5.140      -0.888\n",
      "=====================================================================================\n"
     ]
    },
    {
     "name": "stderr",
     "output_type": "stream",
     "text": [
      "/usr/local/lib/python3.11/dist-packages/statsmodels/genmod/generalized_linear_model.py:308: DomainWarning: The InversePower link function does not respect the domain of the Gamma family.\n",
      "  warnings.warn((f\"The {type(family.link).__name__} link function \"\n",
      "/usr/local/lib/python3.11/dist-packages/statsmodels/genmod/families/family.py:812: RuntimeWarning: divide by zero encountered in log\n",
      "  ll_obs -= special.gammaln(weight_scale) + np.log(endog)\n",
      "/usr/local/lib/python3.11/dist-packages/statsmodels/genmod/generalized_linear_model.py:1891: RuntimeWarning: invalid value encountered in scalar subtract\n",
      "  prsq = 1 - np.exp((self.llnull - self.llf) * (2 / self.nobs))\n"
     ]
    }
   ],
   "source": [
    "gamma_model = sm.GLM(y, x, family=sm.families.Gamma())\n",
    "gamma_results = gamma_model.fit()\n",
    "print(gamma_results.summary())"
   ]
  },
  {
   "cell_type": "markdown",
   "metadata": {
    "id": "Cn0a_6MFr6fz"
   },
   "source": [
    "Según el P Values, todas las variables son importantes para explicar la variable de salida, pero nosotros solo necesitamos dos para este análisis. Las medidas de todas las flores están en centimetros, lo cuál nos da una unidad de medida especifica para todas nuestras cantidades, pero no podemos estar seguros de que las medidas estén en los mismos intervalos, es decir, no podemos estar seguros de si el número dado en el 'coef' afecta 'mucho' o 'poco' a ciencia cierta.\n",
    "<p>De todas las variables podemos eliminar **'petal width'** con más certeza que el resto, pues es la única que no tiene un valor de 0.000.</p>\n",
    "<p>Podemos realizar el modelo de nuevo para comprobar si en verdad estas tres variables restantes son significativas o si podemos eliminar otra más.</p>"
   ]
  },
  {
   "cell_type": "code",
   "execution_count": 42,
   "metadata": {
    "colab": {
     "base_uri": "https://localhost:8080/"
    },
    "id": "5Gb_np5EsBYA",
    "outputId": "034f4402-55d5-460a-bcca-c219802290e9"
   },
   "outputs": [
    {
     "name": "stdout",
     "output_type": "stream",
     "text": [
      "                 Generalized Linear Model Regression Results                  \n",
      "==============================================================================\n",
      "Dep. Variable:       species_category   No. Observations:                  100\n",
      "Model:                            GLM   Df Residuals:                       97\n",
      "Model Family:                   Gamma   Df Model:                            2\n",
      "Link Function:           InversePower   Scale:                          2.5577\n",
      "Method:                          IRLS   Log-Likelihood:                    inf\n",
      "Date:                Thu, 20 Mar 2025   Deviance:                       3843.4\n",
      "Time:                        13:36:39   Pearson chi2:                     248.\n",
      "No. Iterations:                    12   Pseudo R-squ. (CS):                nan\n",
      "Covariance Type:            nonrobust                                         \n",
      "=====================================================================================\n",
      "                        coef    std err          z      P>|z|      [0.025      0.975]\n",
      "-------------------------------------------------------------------------------------\n",
      "sepal length (cm)     2.3514      0.450      5.221      0.000       1.469       3.234\n",
      "sepal width (cm)      4.1614      0.731      5.692      0.000       2.728       5.594\n",
      "petal length (cm)    -5.5130      0.943     -5.847      0.000      -7.361      -3.665\n",
      "=====================================================================================\n"
     ]
    },
    {
     "name": "stderr",
     "output_type": "stream",
     "text": [
      "/usr/local/lib/python3.11/dist-packages/statsmodels/genmod/generalized_linear_model.py:308: DomainWarning: The InversePower link function does not respect the domain of the Gamma family.\n",
      "  warnings.warn((f\"The {type(family.link).__name__} link function \"\n",
      "/usr/local/lib/python3.11/dist-packages/statsmodels/genmod/families/family.py:812: RuntimeWarning: divide by zero encountered in log\n",
      "  ll_obs -= special.gammaln(weight_scale) + np.log(endog)\n",
      "/usr/local/lib/python3.11/dist-packages/statsmodels/genmod/generalized_linear_model.py:1891: RuntimeWarning: invalid value encountered in scalar subtract\n",
      "  prsq = 1 - np.exp((self.llnull - self.llf) * (2 / self.nobs))\n"
     ]
    }
   ],
   "source": [
    "x = df[['sepal length (cm)', 'sepal width (cm)', 'petal length (cm)']]\n",
    "gamma_model = sm.GLM(y, x, family=sm.families.Gamma())\n",
    "gamma_results = gamma_model.fit()\n",
    "print(gamma_results.summary())"
   ]
  },
  {
   "cell_type": "markdown",
   "metadata": {
    "id": "baswqRn1sQkd"
   },
   "source": [
    "Efectivamente, según el P values, todas estás variables aportan informaión relevante al modelo, pero el valor en la columna 'coef' cambió ligeramente. Aunque no estemos muy seguros de cuáles son las medidas normales de estas plantas, podemos utilizar esta columna para seleccionar una variable dado que no tenemos mucha más información pertinente.\n",
    "<p>Tomando esto en cuenta, utilizaremos las variables **'petal length (cm)'** y **'sepal width (cm)'** para este análisis, que son variables cuyo P values es 0.000 y cuyo 'coef' es mayor que el de la variable restante.</p>"
   ]
  },
  {
   "cell_type": "code",
   "execution_count": 43,
   "metadata": {
    "colab": {
     "base_uri": "https://localhost:8080/"
    },
    "id": "AQ-DZd0jz4NU",
    "outputId": "4a9edb34-7e38-438e-a877-62e37fa377ea"
   },
   "outputs": [
    {
     "name": "stdout",
     "output_type": "stream",
     "text": [
      "Balance de los datos de entrenamiento:\n",
      "species_category\n",
      "1    40\n",
      "0    40\n",
      "Name: count, dtype: int64\n",
      "Balance de los datos de validación:\n",
      "species_category\n",
      "1    10\n",
      "0    10\n",
      "Name: count, dtype: int64\n"
     ]
    }
   ],
   "source": [
    "x = df[['petal length (cm)', 'sepal width (cm)']]\n",
    "x_train, x_test, y_train, y_testLDA = train_test_split(x, y, test_size=0.2, random_state=0, stratify=y)\n",
    "print('Balance de los datos de entrenamiento:')\n",
    "print(y_train.value_counts())\n",
    "print('Balance de los datos de validación:')\n",
    "print(y_test.value_counts())"
   ]
  },
  {
   "cell_type": "markdown",
   "metadata": {
    "id": "NLMez3XXteZc"
   },
   "source": [
    "Se puede observar que seguimos conservado un balance de clases, lo cuál es ideal."
   ]
  },
  {
   "cell_type": "markdown",
   "metadata": {
    "id": "Z8NURz93xgG7"
   },
   "source": [
    "3. Genera un modelo usando la metodología de linear discriminant analysis. Visualiza la función discriminante con una gráfica de variable 1 vs variable 2, donde cada observación tenga algo que la distinga dependiendo de su clase (por ejemplo, distinto color, distinto marcador, etc.)"
   ]
  },
  {
   "cell_type": "code",
   "execution_count": 44,
   "metadata": {
    "colab": {
     "base_uri": "https://localhost:8080/",
     "height": 563
    },
    "id": "E_lMlbFIr5v6",
    "outputId": "f5794f98-f4b3-4349-80ab-f73cb87055db"
   },
   "outputs": [
    {
     "name": "stdout",
     "output_type": "stream",
     "text": [
      "Accuracy:  1.0\n"
     ]
    },
    {
     "data": {
      "image/png": "[encoded data removed]",
      "text/plain": [
       "<Figure size 800x600 with 1 Axes>"
      ]
     },
     "metadata": {},
     "output_type": "display_data"
    }
   ],
   "source": [
    "scaler = StandardScaler()\n",
    "x = scaler.fit_transform(x)\n",
    "x_trainLDA = scaler.fit_transform(x_train)\n",
    "x_testLDA = scaler.transform(x_test)\n",
    "#Aplicar LDA\n",
    "lda = LinearDiscriminantAnalysis()\n",
    "lda.fit(x_trainLDA, y_train)\n",
    "y_predLDA = lda.predict(x_testLDA)\n",
    "accuracyLDA = accuracy_score(y_testLDA, y_predLDA)\n",
    "print('Accuracy: ', accuracyLDA)\n",
    "#Gráfca realizada con ayuda de ChatGPT\n",
    "# Crear una malla para la frontera de decisión\n",
    "x_min, x_max = x[:, 0].min() - 1, x[:, 0].max() + 1\n",
    "y_min, y_max = x[:, 1].min() - 1, x[:, 1].max() + 1\n",
    "xx, yy = np.meshgrid(np.linspace(x_min, x_max, 200), np.linspace(y_min, y_max, 200))\n",
    "Z = lda.predict(np.c_[xx.ravel(), yy.ravel()])\n",
    "Z = Z.reshape(xx.shape)\n",
    "\n",
    "# Graficar los datos y la frontera de decisión\n",
    "plt.figure(figsize=(8, 6))\n",
    "plt.contourf(xx, yy, Z, alpha=0.3, cmap='coolwarm')  # Frontera de decisión\n",
    "plt.scatter(x_trainLDA[:, 0], x_trainLDA[:, 1], c=y_train, cmap='coolwarm', edgecolors='k', label=\"Entrenamiento\")\n",
    "plt.scatter(x_testLDA[:, 0], x_testLDA[:, 1], c=y_test, cmap='coolwarm', marker='s', edgecolors='k', label=\"Prueba\")\n",
    "plt.title(\"Frontera de Decisión del Análisis Discriminante Lineal (LDA)\")\n",
    "plt.legend()\n",
    "plt.show()"
   ]
  },
  {
   "cell_type": "markdown",
   "metadata": {
    "id": "barr9DXRwgsg"
   },
   "source": [
    "LDA cuenta con un accuracy de 1.0, es decir, acierta todos las observaciones. De forma visual es más fácil de ver tomando en cuenta la división creada por el modelo, es decir, la línea diagonal que parte los datos en la zona azul y la zona roja. Podemos suponer que la zona azul es una flor y la zona roja es otra, el área coloreada representa el lugar donde el modelo clasificó la flor y el color del punto representa su valor real, entonces podemos decir que, efectivamente, este modelo tiene un accuracy del 100% pues la clasificación (gráficamente) es correcta."
   ]
  },
  {
   "cell_type": "markdown",
   "metadata": {
    "id": "4emNw8D2gvyH"
   },
   "source": [
    "4. Genera un modelo usando la metodología de árboles de decisión. Deberás podar el árbol,\n",
    "habiendo seleccionado primero un valor óptimo de 𝛼 mediante una metodología de\n",
    "LOOCV. Visualiza tanto el árbol resultante, como la partición en una gráfica de variable 1\n",
    "vs variable 2, donde cada observación tenga algo que la distinga dependiendo de su\n",
    "clase."
   ]
  },
  {
   "cell_type": "code",
   "execution_count": 45,
   "metadata": {
    "colab": {
     "base_uri": "https://localhost:8080/",
     "height": 99
    },
    "id": "_uNFX0NKhPha",
    "outputId": "e1e7f588-0f82-4c4b-e50a-43750f0f3745"
   },
   "outputs": [
    {
     "name": "stdout",
     "output_type": "stream",
     "text": [
      "Mejor alpha encontrado: 0.0\n"
     ]
    },
    {
     "data": {
      "text/html": [
       "<style>#sk-container-id-4 {\n",
       "  /* Definition of color scheme common for light and dark mode */\n",
       "  --sklearn-color-text: #000;\n",
       "  --sklearn-color-text-muted: #666;\n",
       "  --sklearn-color-line: gray;\n",
       "  /* Definition of color scheme for unfitted estimators */\n",
       "  --sklearn-color-unfitted-level-0: #fff5e6;\n",
       "  --sklearn-color-unfitted-level-1: #f6e4d2;\n",
       "  --sklearn-color-unfitted-level-2: #ffe0b3;\n",
       "  --sklearn-color-unfitted-level-3: chocolate;\n",
       "  /* Definition of color scheme for fitted estimators */\n",
       "  --sklearn-color-fitted-level-0: #f0f8ff;\n",
       "  --sklearn-color-fitted-level-1: #d4ebff;\n",
       "  --sklearn-color-fitted-level-2: #b3dbfd;\n",
       "  --sklearn-color-fitted-level-3: cornflowerblue;\n",
       "\n",
       "  /* Specific color for light theme */\n",
       "  --sklearn-color-text-on-default-background: var(--sg-text-color, var(--theme-code-foreground, var(--jp-content-font-color1, black)));\n",
       "  --sklearn-color-background: var(--sg-background-color, var(--theme-background, var(--jp-layout-color0, white)));\n",
       "  --sklearn-color-border-box: var(--sg-text-color, var(--theme-code-foreground, var(--jp-content-font-color1, black)));\n",
       "  --sklearn-color-icon: #696969;\n",
       "\n",
       "  @media (prefers-color-scheme: dark) {\n",
       "    /* Redefinition of color scheme for dark theme */\n",
       "    --sklearn-color-text-on-default-background: var(--sg-text-color, var(--theme-code-foreground, var(--jp-content-font-color1, white)));\n",
       "    --sklearn-color-background: var(--sg-background-color, var(--theme-background, var(--jp-layout-color0, #111)));\n",
       "    --sklearn-color-border-box: var(--sg-text-color, var(--theme-code-foreground, var(--jp-content-font-color1, white)));\n",
       "    --sklearn-color-icon: #878787;\n",
       "  }\n",
       "}\n",
       "\n",
       "#sk-container-id-4 {\n",
       "  color: var(--sklearn-color-text);\n",
       "}\n",
       "\n",
       "#sk-container-id-4 pre {\n",
       "  padding: 0;\n",
       "}\n",
       "\n",
       "#sk-container-id-4 input.sk-hidden--visually {\n",
       "  border: 0;\n",
       "  clip: rect(1px 1px 1px 1px);\n",
       "  clip: rect(1px, 1px, 1px, 1px);\n",
       "  height: 1px;\n",
       "  margin: -1px;\n",
       "  overflow: hidden;\n",
       "  padding: 0;\n",
       "  position: absolute;\n",
       "  width: 1px;\n",
       "}\n",
       "\n",
       "#sk-container-id-4 div.sk-dashed-wrapped {\n",
       "  border: 1px dashed var(--sklearn-color-line);\n",
       "  margin: 0 0.4em 0.5em 0.4em;\n",
       "  box-sizing: border-box;\n",
       "  padding-bottom: 0.4em;\n",
       "  background-color: var(--sklearn-color-background);\n",
       "}\n",
       "\n",
       "#sk-container-id-4 div.sk-container {\n",
       "  /* jupyter's `normalize.less` sets `[hidden] { display: none; }`\n",
       "     but bootstrap.min.css set `[hidden] { display: none !important; }`\n",
       "     so we also need the `!important` here to be able to override the\n",
       "     default hidden behavior on the sphinx rendered scikit-learn.org.\n",
       "     See: https://github.com/scikit-learn/scikit-learn/issues/21755 */\n",
       "  display: inline-block !important;\n",
       "  position: relative;\n",
       "}\n",
       "\n",
       "#sk-container-id-4 div.sk-text-repr-fallback {\n",
       "  display: none;\n",
       "}\n",
       "\n",
       "div.sk-parallel-item,\n",
       "div.sk-serial,\n",
       "div.sk-item {\n",
       "  /* draw centered vertical line to link estimators */\n",
       "  background-image: linear-gradient(var(--sklearn-color-text-on-default-background), var(--sklearn-color-text-on-default-background));\n",
       "  background-size: 2px 100%;\n",
       "  background-repeat: no-repeat;\n",
       "  background-position: center center;\n",
       "}\n",
       "\n",
       "/* Parallel-specific style estimator block */\n",
       "\n",
       "#sk-container-id-4 div.sk-parallel-item::after {\n",
       "  content: \"\";\n",
       "  width: 100%;\n",
       "  border-bottom: 2px solid var(--sklearn-color-text-on-default-background);\n",
       "  flex-grow: 1;\n",
       "}\n",
       "\n",
       "#sk-container-id-4 div.sk-parallel {\n",
       "  display: flex;\n",
       "  align-items: stretch;\n",
       "  justify-content: center;\n",
       "  background-color: var(--sklearn-color-background);\n",
       "  position: relative;\n",
       "}\n",
       "\n",
       "#sk-container-id-4 div.sk-parallel-item {\n",
       "  display: flex;\n",
       "  flex-direction: column;\n",
       "}\n",
       "\n",
       "#sk-container-id-4 div.sk-parallel-item:first-child::after {\n",
       "  align-self: flex-end;\n",
       "  width: 50%;\n",
       "}\n",
       "\n",
       "#sk-container-id-4 div.sk-parallel-item:last-child::after {\n",
       "  align-self: flex-start;\n",
       "  width: 50%;\n",
       "}\n",
       "\n",
       "#sk-container-id-4 div.sk-parallel-item:only-child::after {\n",
       "  width: 0;\n",
       "}\n",
       "\n",
       "/* Serial-specific style estimator block */\n",
       "\n",
       "#sk-container-id-4 div.sk-serial {\n",
       "  display: flex;\n",
       "  flex-direction: column;\n",
       "  align-items: center;\n",
       "  background-color: var(--sklearn-color-background);\n",
       "  padding-right: 1em;\n",
       "  padding-left: 1em;\n",
       "}\n",
       "\n",
       "\n",
       "/* Toggleable style: style used for estimator/Pipeline/ColumnTransformer box that is\n",
       "clickable and can be expanded/collapsed.\n",
       "- Pipeline and ColumnTransformer use this feature and define the default style\n",
       "- Estimators will overwrite some part of the style using the `sk-estimator` class\n",
       "*/\n",
       "\n",
       "/* Pipeline and ColumnTransformer style (default) */\n",
       "\n",
       "#sk-container-id-4 div.sk-toggleable {\n",
       "  /* Default theme specific background. It is overwritten whether we have a\n",
       "  specific estimator or a Pipeline/ColumnTransformer */\n",
       "  background-color: var(--sklearn-color-background);\n",
       "}\n",
       "\n",
       "/* Toggleable label */\n",
       "#sk-container-id-4 label.sk-toggleable__label {\n",
       "  cursor: pointer;\n",
       "  display: flex;\n",
       "  width: 100%;\n",
       "  margin-bottom: 0;\n",
       "  padding: 0.5em;\n",
       "  box-sizing: border-box;\n",
       "  text-align: center;\n",
       "  align-items: start;\n",
       "  justify-content: space-between;\n",
       "  gap: 0.5em;\n",
       "}\n",
       "\n",
       "#sk-container-id-4 label.sk-toggleable__label .caption {\n",
       "  font-size: 0.6rem;\n",
       "  font-weight: lighter;\n",
       "  color: var(--sklearn-color-text-muted);\n",
       "}\n",
       "\n",
       "#sk-container-id-4 label.sk-toggleable__label-arrow:before {\n",
       "  /* Arrow on the left of the label */\n",
       "  content: \"▸\";\n",
       "  float: left;\n",
       "  margin-right: 0.25em;\n",
       "  color: var(--sklearn-color-icon);\n",
       "}\n",
       "\n",
       "#sk-container-id-4 label.sk-toggleable__label-arrow:hover:before {\n",
       "  color: var(--sklearn-color-text);\n",
       "}\n",
       "\n",
       "/* Toggleable content - dropdown */\n",
       "\n",
       "#sk-container-id-4 div.sk-toggleable__content {\n",
       "  max-height: 0;\n",
       "  max-width: 0;\n",
       "  overflow: hidden;\n",
       "  text-align: left;\n",
       "  /* unfitted */\n",
       "  background-color: var(--sklearn-color-unfitted-level-0);\n",
       "}\n",
       "\n",
       "#sk-container-id-4 div.sk-toggleable__content.fitted {\n",
       "  /* fitted */\n",
       "  background-color: var(--sklearn-color-fitted-level-0);\n",
       "}\n",
       "\n",
       "#sk-container-id-4 div.sk-toggleable__content pre {\n",
       "  margin: 0.2em;\n",
       "  border-radius: 0.25em;\n",
       "  color: var(--sklearn-color-text);\n",
       "  /* unfitted */\n",
       "  background-color: var(--sklearn-color-unfitted-level-0);\n",
       "}\n",
       "\n",
       "#sk-container-id-4 div.sk-toggleable__content.fitted pre {\n",
       "  /* unfitted */\n",
       "  background-color: var(--sklearn-color-fitted-level-0);\n",
       "}\n",
       "\n",
       "#sk-container-id-4 input.sk-toggleable__control:checked~div.sk-toggleable__content {\n",
       "  /* Expand drop-down */\n",
       "  max-height: 200px;\n",
       "  max-width: 100%;\n",
       "  overflow: auto;\n",
       "}\n",
       "\n",
       "#sk-container-id-4 input.sk-toggleable__control:checked~label.sk-toggleable__label-arrow:before {\n",
       "  content: \"▾\";\n",
       "}\n",
       "\n",
       "/* Pipeline/ColumnTransformer-specific style */\n",
       "\n",
       "#sk-container-id-4 div.sk-label input.sk-toggleable__control:checked~label.sk-toggleable__label {\n",
       "  color: var(--sklearn-color-text);\n",
       "  background-color: var(--sklearn-color-unfitted-level-2);\n",
       "}\n",
       "\n",
       "#sk-container-id-4 div.sk-label.fitted input.sk-toggleable__control:checked~label.sk-toggleable__label {\n",
       "  background-color: var(--sklearn-color-fitted-level-2);\n",
       "}\n",
       "\n",
       "/* Estimator-specific style */\n",
       "\n",
       "/* Colorize estimator box */\n",
       "#sk-container-id-4 div.sk-estimator input.sk-toggleable__control:checked~label.sk-toggleable__label {\n",
       "  /* unfitted */\n",
       "  background-color: var(--sklearn-color-unfitted-level-2);\n",
       "}\n",
       "\n",
       "#sk-container-id-4 div.sk-estimator.fitted input.sk-toggleable__control:checked~label.sk-toggleable__label {\n",
       "  /* fitted */\n",
       "  background-color: var(--sklearn-color-fitted-level-2);\n",
       "}\n",
       "\n",
       "#sk-container-id-4 div.sk-label label.sk-toggleable__label,\n",
       "#sk-container-id-4 div.sk-label label {\n",
       "  /* The background is the default theme color */\n",
       "  color: var(--sklearn-color-text-on-default-background);\n",
       "}\n",
       "\n",
       "/* On hover, darken the color of the background */\n",
       "#sk-container-id-4 div.sk-label:hover label.sk-toggleable__label {\n",
       "  color: var(--sklearn-color-text);\n",
       "  background-color: var(--sklearn-color-unfitted-level-2);\n",
       "}\n",
       "\n",
       "/* Label box, darken color on hover, fitted */\n",
       "#sk-container-id-4 div.sk-label.fitted:hover label.sk-toggleable__label.fitted {\n",
       "  color: var(--sklearn-color-text);\n",
       "  background-color: var(--sklearn-color-fitted-level-2);\n",
       "}\n",
       "\n",
       "/* Estimator label */\n",
       "\n",
       "#sk-container-id-4 div.sk-label label {\n",
       "  font-family: monospace;\n",
       "  font-weight: bold;\n",
       "  display: inline-block;\n",
       "  line-height: 1.2em;\n",
       "}\n",
       "\n",
       "#sk-container-id-4 div.sk-label-container {\n",
       "  text-align: center;\n",
       "}\n",
       "\n",
       "/* Estimator-specific */\n",
       "#sk-container-id-4 div.sk-estimator {\n",
       "  font-family: monospace;\n",
       "  border: 1px dotted var(--sklearn-color-border-box);\n",
       "  border-radius: 0.25em;\n",
       "  box-sizing: border-box;\n",
       "  margin-bottom: 0.5em;\n",
       "  /* unfitted */\n",
       "  background-color: var(--sklearn-color-unfitted-level-0);\n",
       "}\n",
       "\n",
       "#sk-container-id-4 div.sk-estimator.fitted {\n",
       "  /* fitted */\n",
       "  background-color: var(--sklearn-color-fitted-level-0);\n",
       "}\n",
       "\n",
       "/* on hover */\n",
       "#sk-container-id-4 div.sk-estimator:hover {\n",
       "  /* unfitted */\n",
       "  background-color: var(--sklearn-color-unfitted-level-2);\n",
       "}\n",
       "\n",
       "#sk-container-id-4 div.sk-estimator.fitted:hover {\n",
       "  /* fitted */\n",
       "  background-color: var(--sklearn-color-fitted-level-2);\n",
       "}\n",
       "\n",
       "/* Specification for estimator info (e.g. \"i\" and \"?\") */\n",
       "\n",
       "/* Common style for \"i\" and \"?\" */\n",
       "\n",
       ".sk-estimator-doc-link,\n",
       "a:link.sk-estimator-doc-link,\n",
       "a:visited.sk-estimator-doc-link {\n",
       "  float: right;\n",
       "  font-size: smaller;\n",
       "  line-height: 1em;\n",
       "  font-family: monospace;\n",
       "  background-color: var(--sklearn-color-background);\n",
       "  border-radius: 1em;\n",
       "  height: 1em;\n",
       "  width: 1em;\n",
       "  text-decoration: none !important;\n",
       "  margin-left: 0.5em;\n",
       "  text-align: center;\n",
       "  /* unfitted */\n",
       "  border: var(--sklearn-color-unfitted-level-1) 1pt solid;\n",
       "  color: var(--sklearn-color-unfitted-level-1);\n",
       "}\n",
       "\n",
       ".sk-estimator-doc-link.fitted,\n",
       "a:link.sk-estimator-doc-link.fitted,\n",
       "a:visited.sk-estimator-doc-link.fitted {\n",
       "  /* fitted */\n",
       "  border: var(--sklearn-color-fitted-level-1) 1pt solid;\n",
       "  color: var(--sklearn-color-fitted-level-1);\n",
       "}\n",
       "\n",
       "/* On hover */\n",
       "div.sk-estimator:hover .sk-estimator-doc-link:hover,\n",
       ".sk-estimator-doc-link:hover,\n",
       "div.sk-label-container:hover .sk-estimator-doc-link:hover,\n",
       ".sk-estimator-doc-link:hover {\n",
       "  /* unfitted */\n",
       "  background-color: var(--sklearn-color-unfitted-level-3);\n",
       "  color: var(--sklearn-color-background);\n",
       "  text-decoration: none;\n",
       "}\n",
       "\n",
       "div.sk-estimator.fitted:hover .sk-estimator-doc-link.fitted:hover,\n",
       ".sk-estimator-doc-link.fitted:hover,\n",
       "div.sk-label-container:hover .sk-estimator-doc-link.fitted:hover,\n",
       ".sk-estimator-doc-link.fitted:hover {\n",
       "  /* fitted */\n",
       "  background-color: var(--sklearn-color-fitted-level-3);\n",
       "  color: var(--sklearn-color-background);\n",
       "  text-decoration: none;\n",
       "}\n",
       "\n",
       "/* Span, style for the box shown on hovering the info icon */\n",
       ".sk-estimator-doc-link span {\n",
       "  display: none;\n",
       "  z-index: 9999;\n",
       "  position: relative;\n",
       "  font-weight: normal;\n",
       "  right: .2ex;\n",
       "  padding: .5ex;\n",
       "  margin: .5ex;\n",
       "  width: min-content;\n",
       "  min-width: 20ex;\n",
       "  max-width: 50ex;\n",
       "  color: var(--sklearn-color-text);\n",
       "  box-shadow: 2pt 2pt 4pt #999;\n",
       "  /* unfitted */\n",
       "  background: var(--sklearn-color-unfitted-level-0);\n",
       "  border: .5pt solid var(--sklearn-color-unfitted-level-3);\n",
       "}\n",
       "\n",
       ".sk-estimator-doc-link.fitted span {\n",
       "  /* fitted */\n",
       "  background: var(--sklearn-color-fitted-level-0);\n",
       "  border: var(--sklearn-color-fitted-level-3);\n",
       "}\n",
       "\n",
       ".sk-estimator-doc-link:hover span {\n",
       "  display: block;\n",
       "}\n",
       "\n",
       "/* \"?\"-specific style due to the `<a>` HTML tag */\n",
       "\n",
       "#sk-container-id-4 a.estimator_doc_link {\n",
       "  float: right;\n",
       "  font-size: 1rem;\n",
       "  line-height: 1em;\n",
       "  font-family: monospace;\n",
       "  background-color: var(--sklearn-color-background);\n",
       "  border-radius: 1rem;\n",
       "  height: 1rem;\n",
       "  width: 1rem;\n",
       "  text-decoration: none;\n",
       "  /* unfitted */\n",
       "  color: var(--sklearn-color-unfitted-level-1);\n",
       "  border: var(--sklearn-color-unfitted-level-1) 1pt solid;\n",
       "}\n",
       "\n",
       "#sk-container-id-4 a.estimator_doc_link.fitted {\n",
       "  /* fitted */\n",
       "  border: var(--sklearn-color-fitted-level-1) 1pt solid;\n",
       "  color: var(--sklearn-color-fitted-level-1);\n",
       "}\n",
       "\n",
       "/* On hover */\n",
       "#sk-container-id-4 a.estimator_doc_link:hover {\n",
       "  /* unfitted */\n",
       "  background-color: var(--sklearn-color-unfitted-level-3);\n",
       "  color: var(--sklearn-color-background);\n",
       "  text-decoration: none;\n",
       "}\n",
       "\n",
       "#sk-container-id-4 a.estimator_doc_link.fitted:hover {\n",
       "  /* fitted */\n",
       "  background-color: var(--sklearn-color-fitted-level-3);\n",
       "}\n",
       "</style><div id=\"sk-container-id-4\" class=\"sk-top-container\"><div class=\"sk-text-repr-fallback\"><pre>DecisionTreeClassifier(ccp_alpha=np.float64(0.0), random_state=0)</pre><b>In a Jupyter environment, please rerun this cell to show the HTML representation or trust the notebook. <br />On GitHub, the HTML representation is unable to render, please try loading this page with nbviewer.org.</b></div><div class=\"sk-container\" hidden><div class=\"sk-item\"><div class=\"sk-estimator fitted sk-toggleable\"><input class=\"sk-toggleable__control sk-hidden--visually\" id=\"sk-estimator-id-4\" type=\"checkbox\" checked><label for=\"sk-estimator-id-4\" class=\"sk-toggleable__label fitted sk-toggleable__label-arrow\"><div><div>DecisionTreeClassifier</div></div><div><a class=\"sk-estimator-doc-link fitted\" rel=\"noreferrer\" target=\"_blank\" href=\"https://scikit-learn.org/1.6/modules/generated/sklearn.tree.DecisionTreeClassifier.html\">?<span>Documentation for DecisionTreeClassifier</span></a><span class=\"sk-estimator-doc-link fitted\">i<span>Fitted</span></span></div></label><div class=\"sk-toggleable__content fitted\"><pre>DecisionTreeClassifier(ccp_alpha=np.float64(0.0), random_state=0)</pre></div> </div></div></div></div>"
      ],
      "text/plain": [
       "DecisionTreeClassifier(ccp_alpha=np.float64(0.0), random_state=0)"
      ]
     },
     "execution_count": 45,
     "metadata": {},
     "output_type": "execute_result"
    }
   ],
   "source": [
    "x = df[['petal length (cm)', 'sepal width (cm)']]\n",
    "X_train, X_test, y_train, y_testTree = train_test_split(x, y, test_size=0.2, random_state=0, stratify=y)\n",
    "# Código hecho con ayuda de ChatGPT\n",
    "tree = DecisionTreeClassifier(random_state=0)\n",
    "tree.fit(X_train, y_train)\n",
    "\n",
    "# Obtener los valores de alpha para la poda\n",
    "path = tree.cost_complexity_pruning_path(X_train, y_train)\n",
    "ccp_alphas = path.ccp_alphas  # Lista de valores de alpha\n",
    "\n",
    "# Configurar LOOCV\n",
    "loo = LeaveOneOut()\n",
    "\n",
    "# Configurar la búsqueda del mejor alpha con GridSearchCV\n",
    "param_grid = {'ccp_alpha': ccp_alphas}\n",
    "grid_search = GridSearchCV(DecisionTreeClassifier(random_state=0), param_grid, cv=loo, scoring='accuracy', n_jobs=-1)\n",
    "\n",
    "# Ejecutar la búsqueda\n",
    "grid_search.fit(X_train, y_train)\n",
    "\n",
    "# Obtener el mejor valor de alpha\n",
    "best_alpha = grid_search.best_params_['ccp_alpha']\n",
    "print(f\"Mejor alpha encontrado: {best_alpha}\")\n",
    "\n",
    "# Entrenar un nuevo árbol con la poda óptima\n",
    "pruned_tree = DecisionTreeClassifier(random_state=0, ccp_alpha=best_alpha)\n",
    "pruned_tree.fit(X_train, y_train)"
   ]
  },
  {
   "cell_type": "code",
   "execution_count": 46,
   "metadata": {
    "colab": {
     "base_uri": "https://localhost:8080/",
     "height": 600
    },
    "id": "Wl_IwF-Ok9Xe",
    "outputId": "6c3ee16b-c1c9-4582-e586-8596757b9aa8"
   },
   "outputs": [
    {
     "name": "stdout",
     "output_type": "stream",
     "text": [
      "Accuracy:  1.0\n"
     ]
    },
    {
     "name": "stderr",
     "output_type": "stream",
     "text": [
      "/usr/local/lib/python3.11/dist-packages/sklearn/utils/validation.py:2739: UserWarning: X does not have valid feature names, but DecisionTreeClassifier was fitted with feature names\n",
      "  warnings.warn(\n"
     ]
    },
    {
     "data": {
      "image/png": "[encoded data removed]",
      "text/plain": [
       "<Figure size 800x600 with 1 Axes>"
      ]
     },
     "metadata": {},
     "output_type": "display_data"
    }
   ],
   "source": [
    "y_predTree = pruned_tree.predict(X_test)\n",
    "accuracyTree = accuracy_score(y_testTree, y_predTree)\n",
    "print('Accuracy: ', accuracyTree)\n",
    "\n",
    "#Mismo código que antes hecho con ayuda de ChatGPT\n",
    "x = x.to_numpy()\n",
    "x_min, x_max = x[:, 0].min() - 1, x[:, 0].max() + 1\n",
    "y_min, y_max = x[:, 1].min() - 1, x[:, 1].max() + 1\n",
    "xx, yy = np.meshgrid(np.linspace(x_min, x_max, 200), np.linspace(y_min, y_max, 200))\n",
    "Z = pruned_tree.predict(np.c_[xx.ravel(), yy.ravel()])\n",
    "Z = Z.reshape(xx.shape)\n",
    "\n",
    "X_train = X_train.to_numpy()\n",
    "plt.figure(figsize=(8, 6))\n",
    "X_test = X_test.to_numpy()\n",
    "plt.contourf(xx, yy, Z, alpha=0.3, cmap='coolwarm')\n",
    "plt.scatter(X_train[:, 0], X_train[:, 1], c=y_train, cmap='coolwarm', edgecolors='k', label=\"Entrenamiento\")\n",
    "plt.scatter(X_test[:, 0], X_test[:, 1], c=y_testTree, cmap='coolwarm', marker='s', edgecolors='k', label=\"Prueba\")\n",
    "plt.title(\"Clasificación del Árbol de Decisión\")\n",
    "plt.legend()\n",
    "plt.show()"
   ]
  },
  {
   "cell_type": "markdown",
   "metadata": {
    "id": "WskKGvZ0xdLc"
   },
   "source": [
    "La clasificación hecha por un árbol de decisión también tiene un accuracy de 1.0, y podemos ver que este es el caso gráficamente. La zona azul es lo que el modelo considera una flor y la zona roja es otra flor, los colores en los puntos representan su valor real, así que por esto sabemos que el modelo hace un muy buen trabajo clasificando las observaciones a las zonas a las que pertenecen."
   ]
  },
  {
   "cell_type": "markdown",
   "metadata": {
    "id": "3A9KYlHcmF_f"
   },
   "source": [
    "5. Calcula, para ambos modelos, todas las métricas revisadas en clase en los datos de\n",
    "prueba. Indica qué opinas sobre los resultados, especificando si crees que uno de los dos\n",
    "modelos es mejor para esta tarea específica."
   ]
  },
  {
   "cell_type": "code",
   "execution_count": 47,
   "metadata": {
    "colab": {
     "base_uri": "https://localhost:8080/",
     "height": 487
    },
    "id": "Pf2dBZD4mFhj",
    "outputId": "cf36c8f5-9240-4eff-e0dc-c9eb3244874c"
   },
   "outputs": [
    {
     "name": "stdout",
     "output_type": "stream",
     "text": [
      "Accuracy LDA:  1.0\n"
     ]
    },
    {
     "data": {
      "text/plain": [
       "<sklearn.metrics._plot.confusion_matrix.ConfusionMatrixDisplay at 0x7cae3b4333d0>"
      ]
     },
     "execution_count": 47,
     "metadata": {},
     "output_type": "execute_result"
    },
    {
     "data": {
      "image/png": "[encoded data removed]",
      "text/plain": [
       "<Figure size 640x480 with 2 Axes>"
      ]
     },
     "metadata": {},
     "output_type": "display_data"
    }
   ],
   "source": [
    "print('Accuracy LDA: ', accuracyLDA)\n",
    "#Vector de probabilidades\n",
    "y_probsLDA = lda.predict_proba(x_testLDA)[:, 1]\n",
    "#Matriz de confusión\n",
    "cm = confusion_matrix(y_testLDA, y_predLDA)\n",
    "#sns.heatmap(cm, annot=True, cmap='Blues', xticklabels=['0', '1'], yticklabels=['0', '1'])\n",
    "cmd(cm,display_labels=lda.classes_).plot(xticks_rotation=\"vertical\")"
   ]
  },
  {
   "cell_type": "code",
   "execution_count": 48,
   "metadata": {
    "colab": {
     "base_uri": "https://localhost:8080/",
     "height": 524
    },
    "id": "KdwCOcLguHBf",
    "outputId": "b8963f90-7ea4-4f9b-b7bb-51c962712b91"
   },
   "outputs": [
    {
     "name": "stdout",
     "output_type": "stream",
     "text": [
      "Accuracy Tree:  1.0\n"
     ]
    },
    {
     "name": "stderr",
     "output_type": "stream",
     "text": [
      "/usr/local/lib/python3.11/dist-packages/sklearn/utils/validation.py:2739: UserWarning: X does not have valid feature names, but DecisionTreeClassifier was fitted with feature names\n",
      "  warnings.warn(\n"
     ]
    },
    {
     "data": {
      "text/plain": [
       "<sklearn.metrics._plot.confusion_matrix.ConfusionMatrixDisplay at 0x7cae545ac490>"
      ]
     },
     "execution_count": 48,
     "metadata": {},
     "output_type": "execute_result"
    },
    {
     "data": {
      "image/png": "[encoded data removed]",
      "text/plain": [
       "<Figure size 640x480 with 2 Axes>"
      ]
     },
     "metadata": {},
     "output_type": "display_data"
    }
   ],
   "source": [
    "print('Accuracy Tree: ', accuracyTree)\n",
    "#Vector de probabilidades\n",
    "y_probsLDA = pruned_tree.predict_proba(X_test)[:, 1]\n",
    "#Matriz de confusión\n",
    "cm = confusion_matrix(y_testTree, y_predTree)\n",
    "#sns.heatmap(cm, annot=True, cmap='Blues', xticklabels=['0', '1'], yticklabels=['0', '1'])\n",
    "cmd(cm,display_labels=pruned_tree.classes_).plot(xticks_rotation=\"vertical\")"
   ]
  },
  {
   "cell_type": "markdown",
   "metadata": {
    "id": "7e7gapjfyGGg"
   },
   "source": [
    "El modelo LDA y el modelo del árbol de decisión tienen el mismo nivel de accuracy, en este sentido, ningúno de los dos es mejor que el otro, sin embargo podemos mirar la linea que divide a ambas clases y es donde encontramos algunas diferencias en cómo el modelo realiza clasificaciones.\n",
    "<p>El árbol tiene una zona ligeramente más pequeña para las flores que clasifica como azules. Esto podría representar un problema si una observación se acerca demasiado a la mitad del gráfico, que es dónde el modelo de LDA podría clasificar esta misma observación en la zona azul sin el este problema.</p>\n",
    "<p>De cualquier forma, ambos modelos pueden ser muy buenos y la preferencia está en la persona que vaya a utilizar dicho modelo.</p>"
   ]
  },
  {
   "cell_type": "markdown",
   "metadata": {
    "id": "R43w5cl8vD8X"
   },
   "source": [
    "### \"Doy mi palabra de que he realizado esta actividad con integridad académica.\""
   ]
  }
 ],
 "metadata": {
  "colab": {
   "provenance": []
  },
  "kernelspec": {
   "display_name": "Python 3 (ipykernel)",
   "language": "python",
   "name": "python3"
  },
  "language_info": {
   "codemirror_mode": {
    "name": "ipython",
    "version": 3
   },
   "file_extension": ".py",
   "mimetype": "text/x-python",
   "name": "python",
   "nbconvert_exporter": "python",
   "pygments_lexer": "ipython3",
   "version": "3.12.3"
  }
 },
 "nbformat": 4,
 "nbformat_minor": 4
}
